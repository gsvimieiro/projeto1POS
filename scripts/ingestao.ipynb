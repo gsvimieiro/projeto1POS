{
 "cells": [
  {
   "cell_type": "code",
   "execution_count": 2,
   "id": "4c4b00ef",
   "metadata": {},
   "outputs": [],
   "source": [
    "import duckdb\n",
    "import pandas as pd\n",
    "import os\n",
    "import sys\n",
    "from datetime import datetime"
   ]
  },
  {
   "cell_type": "code",
   "execution_count": 31,
   "id": "e2a97330",
   "metadata": {},
   "outputs": [],
   "source": [
    "con = duckdb.connect(database='dados_duckdb.db', read_only=False)"
   ]
  },
  {
   "cell_type": "code",
   "execution_count": 43,
   "id": "d56eab34",
   "metadata": {},
   "outputs": [
    {
     "data": {
      "text/html": [
       "<div>\n",
       "<style scoped>\n",
       "    .dataframe tbody tr th:only-of-type {\n",
       "        vertical-align: middle;\n",
       "    }\n",
       "\n",
       "    .dataframe tbody tr th {\n",
       "        vertical-align: top;\n",
       "    }\n",
       "\n",
       "    .dataframe thead th {\n",
       "        text-align: right;\n",
       "    }\n",
       "</style>\n",
       "<table border=\"1\" class=\"dataframe\">\n",
       "  <thead>\n",
       "    <tr style=\"text-align: right;\">\n",
       "      <th></th>\n",
       "      <th>NATBR</th>\n",
       "      <th>MAKTX</th>\n",
       "      <th>WERKS</th>\n",
       "      <th>MAINS</th>\n",
       "      <th>LABST</th>\n",
       "      <th>nome_arquivo</th>\n",
       "      <th>data_ingestao</th>\n",
       "    </tr>\n",
       "  </thead>\n",
       "  <tbody>\n",
       "    <tr>\n",
       "      <th>0</th>\n",
       "      <td>10003</td>\n",
       "      <td>PREGO</td>\n",
       "      <td>BT10</td>\n",
       "      <td>100</td>\n",
       "      <td>60</td>\n",
       "      <td>z0019_2.csv</td>\n",
       "      <td>2025-09-23 21:24:03.660288</td>\n",
       "    </tr>\n",
       "    <tr>\n",
       "      <th>1</th>\n",
       "      <td>10004</td>\n",
       "      <td>SERRA</td>\n",
       "      <td>BT50</td>\n",
       "      <td>100</td>\n",
       "      <td>200</td>\n",
       "      <td>z0019_2.csv</td>\n",
       "      <td>2025-09-23 21:24:03.660288</td>\n",
       "    </tr>\n",
       "    <tr>\n",
       "      <th>2</th>\n",
       "      <td>10005</td>\n",
       "      <td>MACHADO</td>\n",
       "      <td>BT50</td>\n",
       "      <td>100</td>\n",
       "      <td>100</td>\n",
       "      <td>z0019_2.csv</td>\n",
       "      <td>2025-09-23 21:24:03.660288</td>\n",
       "    </tr>\n",
       "  </tbody>\n",
       "</table>\n",
       "</div>"
      ],
      "text/plain": [
       "   NATBR    MAKTX WERKS  MAINS  LABST nome_arquivo              data_ingestao\n",
       "0  10003    PREGO  BT10    100     60  z0019_2.csv 2025-09-23 21:24:03.660288\n",
       "1  10004    SERRA  BT50    100    200  z0019_2.csv 2025-09-23 21:24:03.660288\n",
       "2  10005  MACHADO  BT50    100    100  z0019_2.csv 2025-09-23 21:24:03.660288"
      ]
     },
     "execution_count": 43,
     "metadata": {},
     "output_type": "execute_result"
    }
   ],
   "source": [
    "arquivo = 'z0019_2.csv'\n",
    "data_ingestao = datetime.now()\n",
    "df = pd.read_csv(f'../landing/{arquivo}', sep=\";\")\n",
    "df['nome_arquivo'] = arquivo\n",
    "df['data_ingestao'] = data_ingestao\n",
    "\n",
    "df.head()"
   ]
  },
  {
   "cell_type": "code",
   "execution_count": 44,
   "id": "1221c854",
   "metadata": {},
   "outputs": [
    {
     "data": {
      "text/plain": [
       "<_duckdb.DuckDBPyConnection at 0x2046eaaa570>"
      ]
     },
     "execution_count": 44,
     "metadata": {},
     "output_type": "execute_result"
    }
   ],
   "source": [
    "con.execute(\"\"\"\n",
    "    CREATE TABLE IF NOT EXISTS bronze_produtos(\n",
    "            NATBR VARCHAR,\n",
    "            MAKTX VARCHAR,\n",
    "            WERKS VARCHAR,\n",
    "            MAINS VARCHAR,\n",
    "            LABST VARCHAR,\n",
    "            nome_arquivo VARCHAR,\n",
    "            data_ingestao TIMESTAMP\n",
    "            )\n",
    "            \"\"\")"
   ]
  },
  {
   "cell_type": "code",
   "execution_count": 45,
   "id": "8f97a3ac",
   "metadata": {},
   "outputs": [
    {
     "data": {
      "text/plain": [
       "<_duckdb.DuckDBPyConnection at 0x2046eaaa570>"
      ]
     },
     "execution_count": 45,
     "metadata": {},
     "output_type": "execute_result"
    }
   ],
   "source": [
    "con.execute(\"INSERT INTO bronze_produtos SELECT * FROM df\")"
   ]
  },
  {
   "cell_type": "code",
   "execution_count": 49,
   "id": "a0c0c204",
   "metadata": {},
   "outputs": [
    {
     "data": {
      "text/html": [
       "<div>\n",
       "<style scoped>\n",
       "    .dataframe tbody tr th:only-of-type {\n",
       "        vertical-align: middle;\n",
       "    }\n",
       "\n",
       "    .dataframe tbody tr th {\n",
       "        vertical-align: top;\n",
       "    }\n",
       "\n",
       "    .dataframe thead th {\n",
       "        text-align: right;\n",
       "    }\n",
       "</style>\n",
       "<table border=\"1\" class=\"dataframe\">\n",
       "  <thead>\n",
       "    <tr style=\"text-align: right;\">\n",
       "      <th></th>\n",
       "      <th>NATBR</th>\n",
       "      <th>MAKTX</th>\n",
       "      <th>WERKS</th>\n",
       "      <th>MAINS</th>\n",
       "      <th>LABST</th>\n",
       "      <th>nome_arquivo</th>\n",
       "      <th>data_ingestao</th>\n",
       "    </tr>\n",
       "  </thead>\n",
       "  <tbody>\n",
       "    <tr>\n",
       "      <th>0</th>\n",
       "      <td>10001</td>\n",
       "      <td>PARAFUSO</td>\n",
       "      <td>BT10</td>\n",
       "      <td>100</td>\n",
       "      <td>100</td>\n",
       "      <td>z0019_1.csv</td>\n",
       "      <td>2025-09-23 21:23:49.511440</td>\n",
       "    </tr>\n",
       "    <tr>\n",
       "      <th>1</th>\n",
       "      <td>10002</td>\n",
       "      <td>MARTELO</td>\n",
       "      <td>BT50</td>\n",
       "      <td>100</td>\n",
       "      <td>1500</td>\n",
       "      <td>z0019_1.csv</td>\n",
       "      <td>2025-09-23 21:23:49.511440</td>\n",
       "    </tr>\n",
       "    <tr>\n",
       "      <th>2</th>\n",
       "      <td>10003</td>\n",
       "      <td>PREGO</td>\n",
       "      <td>BT10</td>\n",
       "      <td>100</td>\n",
       "      <td>50</td>\n",
       "      <td>z0019_1.csv</td>\n",
       "      <td>2025-09-23 21:23:49.511440</td>\n",
       "    </tr>\n",
       "    <tr>\n",
       "      <th>3</th>\n",
       "      <td>10003</td>\n",
       "      <td>PREGO</td>\n",
       "      <td>BT10</td>\n",
       "      <td>100</td>\n",
       "      <td>60</td>\n",
       "      <td>z0019_2.csv</td>\n",
       "      <td>2025-09-23 21:24:03.660288</td>\n",
       "    </tr>\n",
       "    <tr>\n",
       "      <th>4</th>\n",
       "      <td>10004</td>\n",
       "      <td>SERRA</td>\n",
       "      <td>BT50</td>\n",
       "      <td>100</td>\n",
       "      <td>200</td>\n",
       "      <td>z0019_2.csv</td>\n",
       "      <td>2025-09-23 21:24:03.660288</td>\n",
       "    </tr>\n",
       "    <tr>\n",
       "      <th>5</th>\n",
       "      <td>10005</td>\n",
       "      <td>MACHADO</td>\n",
       "      <td>BT50</td>\n",
       "      <td>100</td>\n",
       "      <td>100</td>\n",
       "      <td>z0019_2.csv</td>\n",
       "      <td>2025-09-23 21:24:03.660288</td>\n",
       "    </tr>\n",
       "  </tbody>\n",
       "</table>\n",
       "</div>"
      ],
      "text/plain": [
       "   NATBR     MAKTX WERKS MAINS LABST nome_arquivo              data_ingestao\n",
       "0  10001  PARAFUSO  BT10   100   100  z0019_1.csv 2025-09-23 21:23:49.511440\n",
       "1  10002   MARTELO  BT50   100  1500  z0019_1.csv 2025-09-23 21:23:49.511440\n",
       "2  10003     PREGO  BT10   100    50  z0019_1.csv 2025-09-23 21:23:49.511440\n",
       "3  10003     PREGO  BT10   100    60  z0019_2.csv 2025-09-23 21:24:03.660288\n",
       "4  10004     SERRA  BT50   100   200  z0019_2.csv 2025-09-23 21:24:03.660288\n",
       "5  10005   MACHADO  BT50   100   100  z0019_2.csv 2025-09-23 21:24:03.660288"
      ]
     },
     "execution_count": 49,
     "metadata": {},
     "output_type": "execute_result"
    }
   ],
   "source": [
    "resultado = con.execute(\"select * from bronze_z0019\").fetchdf()\n",
    "resultado.head(10)"
   ]
  },
  {
   "cell_type": "code",
   "execution_count": 47,
   "id": "a141fe8f",
   "metadata": {},
   "outputs": [
    {
     "data": {
      "text/plain": [
       "<_duckdb.DuckDBPyConnection at 0x2046eaaa570>"
      ]
     },
     "execution_count": 47,
     "metadata": {},
     "output_type": "execute_result"
    }
   ],
   "source": [
    "con.execute(\"alter table bronze_produtos rename to bronze_z0019\")"
   ]
  },
  {
   "cell_type": "code",
   "execution_count": 50,
   "id": "24888b5a",
   "metadata": {},
   "outputs": [],
   "source": [
    "con.close()"
   ]
  }
 ],
 "metadata": {
  "kernelspec": {
   "display_name": "Python 3",
   "language": "python",
   "name": "python3"
  },
  "language_info": {
   "codemirror_mode": {
    "name": "ipython",
    "version": 3
   },
   "file_extension": ".py",
   "mimetype": "text/x-python",
   "name": "python",
   "nbconvert_exporter": "python",
   "pygments_lexer": "ipython3",
   "version": "3.13.7"
  }
 },
 "nbformat": 4,
 "nbformat_minor": 5
}
